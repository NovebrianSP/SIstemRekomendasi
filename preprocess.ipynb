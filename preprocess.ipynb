{
 "cells": [
  {
   "cell_type": "code",
   "execution_count": 4,
   "metadata": {},
   "outputs": [
    {
     "name": "stdout",
     "output_type": "stream",
     "text": [
      "Preprocessed data saved to destinasi-wisata-indonesia-preprocessed.xlsx\n"
     ]
    }
   ],
   "source": [
    "import pandas as pd\n",
    "from sklearn.preprocessing import MinMaxScaler\n",
    "import re\n",
    "\n",
    "# Load dataset\n",
    "input_file = \"destinasi-wisata-indonesia.xlsx\"\n",
    "output_file = \"destinasi-wisata-indonesia-preprocessed.xlsx\"\n",
    "data = pd.read_excel(input_file)\n",
    "\n",
    "# Drop irrelevant columns\n",
    "irrelevant_columns = ['coordinate', 'lat', 'long']\n",
    "data = data.drop(columns=irrelevant_columns, errors='ignore')\n",
    "\n",
    "# Handle missing values\n",
    "data.fillna({\n",
    "    'Price': data['Price'].median() if 'Price' in data.columns else 0,\n",
    "    'Rating': data['Rating'].median() if 'Rating' in data.columns else 0,\n",
    "    'Description': ''\n",
    "}, inplace=True)\n",
    "\n",
    "# Normalize numeric columns\n",
    "scaler = MinMaxScaler()\n",
    "numeric_columns = ['Price', 'Rating']\n",
    "for column in numeric_columns:\n",
    "    if column in data.columns:\n",
    "        data[f'Normalized_{column}'] = scaler.fit_transform(data[[column]])\n",
    "\n",
    "# Text preprocessing for \"Description\" column\n",
    "def preprocess_text(text):\n",
    "    text = text.lower()  # Lowercase\n",
    "    text = re.sub(r'[^\\w\\s]', '', text)  # Remove punctuation\n",
    "    text = re.sub(r'\\s+', ' ', text).strip()  # Remove extra spaces\n",
    "    return text\n",
    "\n",
    "data['Processed_Description'] = data['Description'].apply(preprocess_text)\n",
    "\n",
    "# Save the processed data\n",
    "data.to_excel(output_file, index=False)\n",
    "print(f\"Preprocessed data saved to {output_file}\")"
   ]
  }
 ],
 "metadata": {
  "kernelspec": {
   "display_name": "Python 3",
   "language": "python",
   "name": "python3"
  },
  "language_info": {
   "codemirror_mode": {
    "name": "ipython",
    "version": 3
   },
   "file_extension": ".py",
   "mimetype": "text/x-python",
   "name": "python",
   "nbconvert_exporter": "python",
   "pygments_lexer": "ipython3",
   "version": "3.13.1"
  }
 },
 "nbformat": 4,
 "nbformat_minor": 2
}
